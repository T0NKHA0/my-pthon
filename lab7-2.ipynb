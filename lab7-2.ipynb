{
 "cells": [
  {
   "cell_type": "code",
   "execution_count": 5,
   "metadata": {},
   "outputs": [
    {
     "name": "stdout",
     "output_type": "stream",
     "text": [
      "Hello! Natchatewit, เงินเดือน 20321\n"
     ]
    }
   ],
   "source": [
    "import tkinter as tk\n",
    "app = tk.Tk()\n",
    "app.geometry('500x300')\n",
    "app.title('Design by Natchatewit')\n",
    "\n",
    "def print_something():\n",
    "    print('Hello! %s, เงินเดือน %s' %(name1.get(), salary.get()))\n",
    "\n",
    "button = tk.Button(text='click me!', command=print_something)\n",
    "label1 = tk.Label(text='ชื่อพนักงาน')\n",
    "name1 = tk.Entry(app)\n",
    "label2 = tk.Label(text='เงินเดือน')\n",
    "salary = tk.Entry(app)\n",
    "\n",
    "label1.place(x=50, y=50)\n",
    "name1.place(x=150, y=50)\n",
    "label2.place(x=50, y=100)\n",
    "salary.place(x=150, y=100)\n",
    "button.place(x=50, y=150)\n",
    "\n",
    "app.mainloop()"
   ]
  },
  {
   "cell_type": "code",
   "execution_count": null,
   "metadata": {},
   "outputs": [],
   "source": []
  }
 ],
 "metadata": {
  "kernelspec": {
   "display_name": "Python 3",
   "language": "python",
   "name": "python3"
  },
  "language_info": {
   "codemirror_mode": {
    "name": "ipython",
    "version": 3
   },
   "file_extension": ".py",
   "mimetype": "text/x-python",
   "name": "python",
   "nbconvert_exporter": "python",
   "pygments_lexer": "ipython3",
   "version": "3.8.10"
  }
 },
 "nbformat": 4,
 "nbformat_minor": 2
}
