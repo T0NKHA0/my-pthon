{
 "cells": [
  {
   "cell_type": "code",
   "execution_count": 26,
   "metadata": {},
   "outputs": [
    {
     "name": "stdout",
     "output_type": "stream",
     "text": [
      "Natchatewit ได้รับเงินเดือน 20321.00 บาท ชั่วโมงล่วงเวลา 41 ชั่วโมง ค่าล่วงเวลา 6150.00 บาท รวมเป็นเงิน 26471.00 บาท\n"
     ]
    }
   ],
   "source": [
    "def pay(salary, overtime):\n",
    "    if overtime > 40:\n",
    "        p = (overtime * 100) * 1.5\n",
    "    else:\n",
    "        p = overtime * 100\n",
    "    return(p)\n",
    "\n",
    "#count = int(input(\"จำนวนพนักงาน : \"))\n",
    "\n",
    "name = input(\"ชื่อพนักงาน : \")\n",
    "salary = float(input(\"จำนวนเงินเดือนที่ได้รับ : \"))\n",
    "overtime = int(input(\"จำนวนชั่วโมงทำงานเพื่อคิดค่าล่วงเวลา : \"))\n",
    "Opay = pay(salary, overtime)\n",
    "total = Opay + salary\n",
    "\n",
    "\n",
    "print(\"%s ได้รับเงินเดือน %.2f บาท ชั่วโมงล่วงเวลา %d ชั่วโมง ค่าล่วงเวลา %.2f บาท รวมเป็นเงิน %.2f บาท\" %(name, salary, overtime, Opay, total))"
   ]
  },
  {
   "cell_type": "code",
   "execution_count": null,
   "metadata": {},
   "outputs": [],
   "source": []
  }
 ],
 "metadata": {
  "kernelspec": {
   "display_name": "Python 3",
   "language": "python",
   "name": "python3"
  },
  "language_info": {
   "codemirror_mode": {
    "name": "ipython",
    "version": 3
   },
   "file_extension": ".py",
   "mimetype": "text/x-python",
   "name": "python",
   "nbconvert_exporter": "python",
   "pygments_lexer": "ipython3",
   "version": "3.8.10"
  }
 },
 "nbformat": 4,
 "nbformat_minor": 2
}
