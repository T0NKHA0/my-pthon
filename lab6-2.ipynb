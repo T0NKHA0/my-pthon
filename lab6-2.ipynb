{
 "cells": [
  {
   "cell_type": "code",
   "execution_count": 3,
   "metadata": {},
   "outputs": [
    {
     "name": "stdout",
     "output_type": "stream",
     "text": [
      "คะแนนทั้งหมด: 50\n"
     ]
    }
   ],
   "source": [
    "def score1(point1,eff1,mid1):\n",
    "    sc1 = point1+eff1+mid1\n",
    "    return(sc1)\n",
    "\n",
    "point1 = int(input(\"คะแนนเก็บ: \"))\n",
    "eff1 = int(input(\"คะแนนจิตพิสัย: \"))\n",
    "mid1 = int(input(\"คะแนนกลางภาค: \"))\n",
    "print(\"คะแนนทั้งหมด: %d\" %score1(point1,eff1,mid1))\n"
   ]
  },
  {
   "cell_type": "code",
   "execution_count": 4,
   "metadata": {},
   "outputs": [
    {
     "name": "stdout",
     "output_type": "stream",
     "text": [
      "คะแนนกลางภาคมากกว่า 20 กรุณากรอกใหม่\n",
      "คะแนนทั้งหมด: 50\n"
     ]
    }
   ],
   "source": [
    "def score2():\n",
    "    while True:\n",
    "        point2 = int(input(\"คะแนนเก็บ: \"))\n",
    "        eff2 = int(input(\"คะแนนจิตพิสัย: \"))\n",
    "        mid2 = int(input(\"คะแนนกลางภาค: \"))\n",
    "        if point2 > 20:\n",
    "            print(\"คะแนนเก็บมากกว่า 20 กรุณากรอกใหม่\")\n",
    "        elif eff2 > 10:\n",
    "            print(\"คะแนนจิตพิสัยมากกว่า 10 กรุณากรอกใหม่\")\n",
    "        elif mid2 > 20:\n",
    "            print(\"คะแนนกลางภาคมากกว่า 20 กรุณากรอกใหม่\")\n",
    "        else:\n",
    "            break\n",
    "    \n",
    "    sc2 = point2 + eff2 + mid2\n",
    "    return(sc2)\n",
    "\n",
    "total2 = score2()\n",
    "print(\"คะแนนทั้งหมด: %d\" %total2)\n"
   ]
  }
 ],
 "metadata": {
  "kernelspec": {
   "display_name": "Python 3",
   "language": "python",
   "name": "python3"
  },
  "language_info": {
   "codemirror_mode": {
    "name": "ipython",
    "version": 3
   },
   "file_extension": ".py",
   "mimetype": "text/x-python",
   "name": "python",
   "nbconvert_exporter": "python",
   "pygments_lexer": "ipython3",
   "version": "3.8.10"
  }
 },
 "nbformat": 4,
 "nbformat_minor": 2
}
