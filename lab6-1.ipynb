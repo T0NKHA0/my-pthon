{
 "cells": [
  {
   "cell_type": "code",
   "execution_count": 1,
   "metadata": {},
   "outputs": [
    {
     "name": "stdout",
     "output_type": "stream",
     "text": [
      "Hello natchatewit\n"
     ]
    }
   ],
   "source": [
    "print(\"Hello natchatewit\")"
   ]
  },
  {
   "cell_type": "code",
   "execution_count": 2,
   "metadata": {},
   "outputs": [
    {
     "name": "stdout",
     "output_type": "stream",
     "text": [
      "30.5\n"
     ]
    }
   ],
   "source": [
    "a = 10.5\n",
    "b = 20\n",
    "print(a+b)"
   ]
  },
  {
   "cell_type": "code",
   "execution_count": 3,
   "metadata": {},
   "outputs": [
    {
     "name": "stdout",
     "output_type": "stream",
     "text": [
      "Hello 1\n",
      "Hello 2\n",
      "Hello 3\n",
      "Hello 4\n",
      "Hello 5\n",
      "Hello 6\n",
      "Hello 7\n",
      "Hello 8\n",
      "Hello 9\n",
      "Hello 10\n"
     ]
    }
   ],
   "source": [
    "for i in range(10):\n",
    "    i+=1\n",
    "    print(\"Hello %d\" %i)"
   ]
  },
  {
   "cell_type": "code",
   "execution_count": 4,
   "metadata": {},
   "outputs": [
    {
     "name": "stdout",
     "output_type": "stream",
     "text": [
      "องศาเซลเซียส : 30.00 ํc\n",
      "องศาฟาเรนไฮส์ : 86.00 ํf\n",
      "องศาเคลวิน : 303.15 ํk\n"
     ]
    }
   ],
   "source": [
    "def Fa(c):\n",
    "\n",
    "    F = ((9/5)*c)+32\n",
    "    return(F)\n",
    "\n",
    "def Ka(c):\n",
    "    \n",
    "    K = c+273.15\n",
    "    return(K)\n",
    "\n",
    "c = float(input(\"องศาเซลเซียส : \"))\n",
    "print(\"องศาเซลเซียส : %.2f ํc\" %c)\n",
    "print(\"องศาฟาเรนไฮส์ : %.2f ํf\" %Fa(c))\n",
    "print(\"องศาเคลวิน : %.2f ํk\" %Ka(c))"
   ]
  }
 ],
 "metadata": {
  "kernelspec": {
   "display_name": "Python 3",
   "language": "python",
   "name": "python3"
  },
  "language_info": {
   "codemirror_mode": {
    "name": "ipython",
    "version": 3
   },
   "file_extension": ".py",
   "mimetype": "text/x-python",
   "name": "python",
   "nbconvert_exporter": "python",
   "pygments_lexer": "ipython3",
   "version": "3.8.10"
  }
 },
 "nbformat": 4,
 "nbformat_minor": 2
}
